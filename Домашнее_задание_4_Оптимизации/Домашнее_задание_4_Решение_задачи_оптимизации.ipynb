{
 "cells": [
  {
   "cell_type": "markdown",
   "metadata": {},
   "source": [
    "Решите простую задачу безусловной оптимизации в двумерном пространстве:  \n",
    "$$f(\\boldsymbol x) = -8x_1 - 16x_2 + x_1^2 + 4x_2^2$$\n",
    "используя два метода:\n",
    " - аналитически (функция квадратичная, выпуклая)\n",
    " - методом градиентного спуска, используя один из методов оптимизации torch.optim"
   ]
  },
  {
   "cell_type": "markdown",
   "metadata": {},
   "source": [
    "### Аналитическое решение:\n",
    "\n"
   ]
  },
  {
   "cell_type": "markdown",
   "metadata": {},
   "source": [
    "Для нахождения минимума функции $f(\\boldsymbol x)$ необходимо найти точку, в которой градиент функции равен нулю. Градиент функции $f(\\boldsymbol x)$ равен:\n",
    "$$\\nabla f(\\boldsymbol x) = \\begin{pmatrix} \\frac{\\partial f}{\\partial x_1} \\\\ \\frac{\\partial f}{\\partial x_2} \\end{pmatrix} = \\begin{pmatrix} 2x_1 - 8 \\\\ 8x_2 - 16 \\end{pmatrix}$$\n",
    "Приравняем градиент к нулю и решим систему уравнений:\n",
    "$$\\begin{cases} 2x_1 - 8 = 0 \\\\ 8x_2 - 16 = 0 \\end{cases}$$\n",
    "Откуда получаем, что $x_1 = 4$ и $x_2 = 2$. Таким образом, минимум функции $f(\\boldsymbol x)$ равен $f(4,2) = -48$."
   ]
  },
  {
   "cell_type": "markdown",
   "metadata": {},
   "source": [
    "### Метод градиентного спуска:\n"
   ]
  },
  {
   "cell_type": "markdown",
   "metadata": {},
   "source": [
    "Для использования метода градиентного спуска необходимо определить функцию потерь, которую будем минимизировать. \n",
    "В данном случае функция потерь будет равна $f(\\boldsymbol x)$, так как мы хотим минимизировать именно эту функцию. "
   ]
  },
  {
   "cell_type": "code",
   "execution_count": 11,
   "metadata": {},
   "outputs": [],
   "source": [
    "import torch\n"
   ]
  },
  {
   "cell_type": "code",
   "execution_count": 12,
   "metadata": {},
   "outputs": [],
   "source": [
    "# Создадим тензор начальной точки f(x) и определим функцию потерь:\n",
    "x = torch.tensor([0., 0.], requires_grad=True)\n",
    "def f(x):\n",
    "    return -8*x[0] - 16*x[1] + x[0]**2 + 4*x[1]**2"
   ]
  },
  {
   "cell_type": "code",
   "execution_count": 13,
   "metadata": {},
   "outputs": [],
   "source": [
    "# Затем создадим оптимизатор и запустим градиентный спуск:\n",
    "optimizer = torch.optim.SGD([x], lr=0.1)\n",
    "\n",
    "for i in range(100):\n",
    "    optimizer.zero_grad()\n",
    "    y = f(x)\n",
    "    y.backward()\n",
    "    optimizer.step()\n"
   ]
  },
  {
   "cell_type": "code",
   "execution_count": 14,
   "metadata": {},
   "outputs": [
    {
     "name": "stdout",
     "output_type": "stream",
     "text": [
      "Minimum value: [3.9999995 2.       ]\n",
      "Minimum point: -32.0\n"
     ]
    }
   ],
   "source": [
    "print(\"Minimum value:\", x.detach().numpy())\n",
    "print(\"Minimum point:\", f(x).detach().numpy())"
   ]
  },
  {
   "cell_type": "code",
   "execution_count": null,
   "metadata": {},
   "outputs": [],
   "source": []
  },
  {
   "cell_type": "code",
   "execution_count": null,
   "metadata": {},
   "outputs": [],
   "source": []
  },
  {
   "cell_type": "code",
   "execution_count": null,
   "metadata": {},
   "outputs": [],
   "source": []
  }
 ],
 "metadata": {
  "kernelspec": {
   "display_name": "Python 3",
   "language": "python",
   "name": "python3"
  },
  "language_info": {
   "codemirror_mode": {
    "name": "ipython",
    "version": 3
   },
   "file_extension": ".py",
   "mimetype": "text/x-python",
   "name": "python",
   "nbconvert_exporter": "python",
   "pygments_lexer": "ipython3",
   "version": "3.8.8"
  }
 },
 "nbformat": 4,
 "nbformat_minor": 2
}
