{
 "cells": [
  {
   "cell_type": "markdown",
   "metadata": {},
   "source": [
    "**Домашнее задание** - Перенос стиля с картинки на картинку"
   ]
  },
  {
   "cell_type": "markdown",
   "metadata": {},
   "source": [
    "Нужно прочитать разбор статьи Gatys ( “A Neural Algorithm of Artistic Style” https://arxiv.org/abs/1508.06576) про перенос стиля:\n",
    "\n",
    "https://towardsdatascience.com/breaking-down-leon-gatys-neural-style-transfer-in-pytorch-faf9f0eb79db\n",
    "\n",
    "И прислать мне jupyter notebook с тем, как вам удалось применить этот метод к своей картинке со своим стилевым изображением.\n",
    "\n",
    "В качестве исходного кода можно использовать тот, что описан в статье, либо взять этот:\n",
    "https://pytorch.org/tutorials/advanced/neural_style_tutorial.html\n",
    "    "
   ]
  },
  {
   "cell_type": "markdown",
   "metadata": {},
   "source": [
    "примеры того, что должно получиться на выходе:\n",
    "\n",
    "<img src='style example 1.png'>\n",
    "\n",
    "<img src='style example 2.png'>\n",
    "\n",
    "<img src='style example 3.png'>"
   ]
  },
  {
   "cell_type": "markdown",
   "metadata": {},
   "source": [
    "Ваша задача - получить подобный перенос стиля на выбранную вами фотографию и с выбранным вами стилевым изображением."
   ]
  },
  {
   "cell_type": "code",
   "execution_count": 1,
   "metadata": {},
   "outputs": [],
   "source": [
    "from torchvision import transforms"
   ]
  },
  {
   "cell_type": "code",
   "execution_count": null,
   "metadata": {},
   "outputs": [],
   "source": [
    "transformations= transforms.Compose(\n",
    "    [\n",
    "        \n",
    "\n",
    "    ]\n",
    "\n",
    ")"
   ]
  }
 ],
 "metadata": {
  "kernelspec": {
   "display_name": "Python 3",
   "language": "python",
   "name": "python3"
  },
  "language_info": {
   "codemirror_mode": {
    "name": "ipython",
    "version": 3
   },
   "file_extension": ".py",
   "mimetype": "text/x-python",
   "name": "python",
   "nbconvert_exporter": "python",
   "pygments_lexer": "ipython3",
   "version": "3.8.8"
  }
 },
 "nbformat": 4,
 "nbformat_minor": 2
}
